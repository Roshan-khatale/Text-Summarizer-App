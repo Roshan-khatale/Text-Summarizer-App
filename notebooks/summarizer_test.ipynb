{
  "cells": [
    {
      "cell_type": "code",
      "execution_count": null,
      "metadata": {},
      "outputs": [],
      "source": [
        "from scripts.summarize import summarize\n",
        "text = '''Artificial Intelligence is transforming the healthcare industry. From patient monitoring to robotic surgery, AI is improving diagnosis. It is also making healthcare more accessible and affordable.''' \n",
        "print(summarize(text))"
      ]
    }
  ],
  "metadata": {},
  "nbformat": 4,
  "nbformat_minor": 5
}